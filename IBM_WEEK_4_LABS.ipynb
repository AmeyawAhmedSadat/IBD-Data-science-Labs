{
 "cells": [
  {
   "cell_type": "markdown",
   "id": "7f40c99a",
   "metadata": {},
   "source": [
    "# **My Jupyter Notebook on IBM Watson Studio**"
   ]
  },
  {
   "cell_type": "markdown",
   "id": "d5603940",
   "metadata": {},
   "source": [
    "Name: **Ahmed Sadat Ameyaw**\n",
    "\n",
    "\n",
    "Occupation: **Data Anlyst aspiring to transition to data science**"
   ]
  },
  {
   "cell_type": "markdown",
   "id": "7f6d404d",
   "metadata": {},
   "source": [
    "*I'm interested in Data science because, I have come to realise that data science can help solve several business problems and when business problems get solved, the whole community benefits. Also I really love maths and computers hence my love for data science*"
   ]
  },
  {
   "cell_type": "markdown",
   "id": "90035ae2",
   "metadata": {},
   "source": [
    "### First import the package numpy and Print a 2 dimensional array (matrix) of 2 x 3"
   ]
  },
  {
   "cell_type": "code",
   "execution_count": 2,
   "id": "6cb5327a",
   "metadata": {},
   "outputs": [
    {
     "name": "stdout",
     "output_type": "stream",
     "text": [
      "[[ 2  3  5]\n",
      " [ 4  8 13]] = c\n",
      "\n"
     ]
    }
   ],
   "source": [
    "import numpy as np\n",
    "c = np.array([[2, 3, 5], [4, 8, 13]])\n",
    "print(c, end=\" = c\\n\\n\")"
   ]
  },
  {
   "cell_type": "markdown",
   "id": "5feb373f",
   "metadata": {},
   "source": [
    " ~~Im glad~~, I am glad that I am taking this course, I hope to achoeve the following\n",
    " \n",
    " - Improve my coding skills\n",
    " - Improve my analytical thinking\n",
    " \n",
    " My top 2 priorities are \n",
    " 1. Machine learning\n",
    " 2. Learn new skills which is relevant for data science. \n",
    " \n",
    " Click [here](https://github.com/AmeyawAhmedSadat) to check out my github.\n",
    " \n",
    " What will be the outcome of this code `print(\"hello world\")`\n",
    " \n",
    " This table won't make any sense but just creating\n",
    " \n",
    " \n",
    " \n",
    " | Boys | Girls |\n",
    " |:----:|:-----:|\n",
    " | 25   |  25   |\n",
    " | 34   | 45    |\n",
    " | 12   |  13   |"
   ]
  }
 ],
 "metadata": {
  "kernelspec": {
   "display_name": "Python 3 (ipykernel)",
   "language": "python",
   "name": "python3"
  },
  "language_info": {
   "codemirror_mode": {
    "name": "ipython",
    "version": 3
   },
   "file_extension": ".py",
   "mimetype": "text/x-python",
   "name": "python",
   "nbconvert_exporter": "python",
   "pygments_lexer": "ipython3",
   "version": "3.9.12"
  }
 },
 "nbformat": 4,
 "nbformat_minor": 5
}
